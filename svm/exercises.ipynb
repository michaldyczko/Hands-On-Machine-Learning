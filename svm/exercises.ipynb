{
 "metadata": {
  "language_info": {
   "codemirror_mode": {
    "name": "ipython",
    "version": 3
   },
   "file_extension": ".py",
   "mimetype": "text/x-python",
   "name": "python",
   "nbconvert_exporter": "python",
   "pygments_lexer": "ipython3",
   "version": "3.8.3-final"
  },
  "orig_nbformat": 2,
  "kernelspec": {
   "name": "python3",
   "display_name": "Python 3"
  }
 },
 "nbformat": 4,
 "nbformat_minor": 2,
 "cells": [
  {
   "source": [
    "# 1. What is the fundamental idea behind Support Vector Machines?"
   ],
   "cell_type": "markdown",
   "metadata": {}
  },
  {
   "source": [
    "Fundamental idea behind SVM is to find \"street\" with special properties.\n",
    "\n",
    "In SVC we want to find the widest possible street that divide categories.\n",
    "IN SVR we want to find the street on which there are the most observations (for given width of the street)."
   ],
   "cell_type": "markdown",
   "metadata": {}
  },
  {
   "source": [
    "# 2. What is a support vector?"
   ],
   "cell_type": "markdown",
   "metadata": {}
  },
  {
   "source": [
    "A support vector is a vector located on the edge of the street."
   ],
   "cell_type": "markdown",
   "metadata": {}
  },
  {
   "source": [
    "# 3. Why is it important to scale the inputs when using SVMs?"
   ],
   "cell_type": "markdown",
   "metadata": {}
  },
  {
   "source": [
    "Because SVM is scale sensitive. If one feature has much higher values then boundary line will be almost perpendicular to it's axis."
   ],
   "cell_type": "markdown",
   "metadata": {}
  },
  {
   "source": [
    "# 4. Can an SVM classifier output a confidence score when it classifies an instance? What about a probability?"
   ],
   "cell_type": "markdown",
   "metadata": {}
  },
  {
   "source": [
    "No, it cannot. It just separates data and assign class."
   ],
   "cell_type": "markdown",
   "metadata": {}
  },
  {
   "source": [
    "# 5. Should you use the primal or the dual form of the SVM problem to train a model on a training set with millions of instances and hundreds of features?"
   ],
   "cell_type": "markdown",
   "metadata": {}
  },
  {
   "source": [
    "I should use primal form, because dual form is the size of $ (m, m) $, where $ m $ is a number of observations, so it takes longer to train it."
   ],
   "cell_type": "markdown",
   "metadata": {}
  },
  {
   "source": [
    "# 6. Say you trained an SVM classifier with an RBF kernel. It seems to underfit the training set: should you increase or decrease γ ( gamma )? What about C ?"
   ],
   "cell_type": "markdown",
   "metadata": {}
  },
  {
   "source": [
    "I should increase them both."
   ],
   "cell_type": "markdown",
   "metadata": {}
  },
  {
   "source": [
    "# 7. How should you set the QP parameters (H, f, A, and b) to solve the soft margin linear SVM classifier problem using an off-the-shelf QP solver?"
   ],
   "cell_type": "markdown",
   "metadata": {}
  },
  {
   "source": [
    "# 8. Train a LinearSVC on a linearly separable dataset. Then train an SVC and a SGDClassifier on the same dataset. See if you can get them to produce roughly the same model."
   ],
   "cell_type": "markdown",
   "metadata": {}
  },
  {
   "source": [
    "# 9. Train an SVM classifier on the MNIST dataset. Since SVM classifiers are binary classifiers, you will need to use one-versus-all to classify all 10 digits. You may want to tune the hyperparameters using small validation sets to speed up the process. What accuracy can you reach?"
   ],
   "cell_type": "markdown",
   "metadata": {}
  },
  {
   "source": [
    "# 10. Train an SVM regressor on the California housing dataset."
   ],
   "cell_type": "markdown",
   "metadata": {}
  },
  {
   "cell_type": "code",
   "execution_count": null,
   "metadata": {},
   "outputs": [],
   "source": []
  }
 ]
}